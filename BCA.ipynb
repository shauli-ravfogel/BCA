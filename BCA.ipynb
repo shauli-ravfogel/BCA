{
 "cells": [
  {
   "cell_type": "code",
   "execution_count": 1,
   "metadata": {},
   "outputs": [],
   "source": [
    "import torch\n",
    "import numpy as np\n",
    "from typing import List\n",
    "import scipy\n",
    "from scipy import linalg\n",
    "torch.set_default_tensor_type(torch.DoubleTensor)"
   ]
  },
  {
   "cell_type": "code",
   "execution_count": 13,
   "metadata": {},
   "outputs": [],
   "source": [
    "N = 1000000\n",
    "d = 32\n",
    "l = 5\n",
    "H = (torch.randn(N,d) + torch.rand(N,d)**2)\n",
    "\n",
    "H = H - torch.mean(H, dim = 0, keepdim = True)\n",
    "H = H\n",
    "W = torch.randn(d,l)\n",
    "cov_H = torch.tensor(np.cov(H.detach().cpu().numpy(), rowvar = False))\n"
   ]
  },
  {
   "cell_type": "code",
   "execution_count": 14,
   "metadata": {},
   "outputs": [],
   "source": [
    "# u = torch.nn.Parameter(u)\n",
    "# optimizer = torch.optim.SGD([u], lr=0.001, momentum=0.9, weight_decay=1e-4)"
   ]
  },
  {
   "cell_type": "code",
   "execution_count": 15,
   "metadata": {},
   "outputs": [],
   "source": [
    "def get_cov_output_projected(u, cov_H, W):\n",
    "    \n",
    "    u_normed = u / torch.norm(u)\n",
    "    P = torch.eye(cov_H.shape[0]) - (u_normed@u_normed.T)\n",
    "    #P = u_normed@u_normed.T\n",
    "    return W.T@P@cov_H@P@W\n",
    "\n",
    "def get_cov_output_total(H,W):\n",
    "    Y_hat = H@W \n",
    "    return torch.tensor(np.cov(Y_hat.detach().cpu().numpy(), rowvar = False))\n",
    "\n",
    "def get_loss_func(cov_output_projected):\n",
    "    \n",
    "    return torch.sum(torch.diag(cov_output_projected))\n",
    "\n",
    "def get_projection_to_intersection_of_nullspaces(rowspace_projection_matrices: List[np.ndarray], input_dim: int):\n",
    "    \"\"\"\n",
    "    Given a list of rowspace projection matrices P_R(w_1), ..., P_R(w_n),\n",
    "    this function calculates the projection to the intersection of all nullspasces of the matrices w_1, ..., w_n.\n",
    "    uses the intersection-projection formula of Ben-Israel 2013 http://benisrael.net/BEN-ISRAEL-NOV-30-13.pdf:\n",
    "    N(w1)∩ N(w2) ∩ ... ∩ N(wn) = N(P_R(w1) + P_R(w2) + ... + P_R(wn))\n",
    "    :param rowspace_projection_matrices: List[np.array], a list of rowspace projections\n",
    "    :param dim: input dim\n",
    "    \"\"\"\n",
    "\n",
    "    I = np.eye(input_dim)\n",
    "    Q = np.sum(rowspace_projection_matrices, axis = 0)\n",
    "    P = I - get_rowspace_projection(Q)\n",
    "\n",
    "    return P\n",
    "\n",
    "def get_rowspace_projection(W: np.ndarray) -> np.ndarray:\n",
    "    \"\"\"\n",
    "    :param W: the matrix over its nullspace to project\n",
    "    :return: the projection matrix over the rowspace\n",
    "    \"\"\"\n",
    "\n",
    "    if np.allclose(W, 0):\n",
    "        w_basis = np.zeros_like(W.T)\n",
    "    else:\n",
    "        w_basis = scipy.linalg.orth(W.T) # orthogonal basis\n",
    "\n",
    "    P_W = w_basis.dot(w_basis.T) # orthogonal projection on W's rowspace\n",
    "\n",
    "    return P_W\n",
    "\n",
    "def BCA(H,W,n_components, eps = 1e-8, max_iters = 25000):\n",
    "    \n",
    "    P_nullspace = torch.eye(H.shape[1])\n",
    "    results = []\n",
    "    cov_out_total = get_cov_output_total(H,W)\n",
    "    total_var_orig = get_loss_func(cov_out_total).detach().cpu().numpy().item()\n",
    "    remaining_var = total_var_orig\n",
    "    H_proj = H.clone()\n",
    "    rowspace_projs = []\n",
    "    \n",
    "    for i in range(n_components):\n",
    "        \n",
    "        H_proj = H_proj@P_nullspace # remove previous component \n",
    "        #if i > 0: print(\"test: \", H_proj@u.double())\n",
    "        #print(\"H proj\", H_proj[:10,:])\n",
    "        cov_H = torch.from_numpy(np.cov(H_proj.detach().cpu().numpy(), rowvar = False))\n",
    "        #print(\"COV H proj\", cov_H)\n",
    "        print(\"-----------------------------\")\n",
    "        u = torch.randn(H_proj.shape[1], 1)\n",
    "        u = torch.nn.Parameter(u)\n",
    "        optimizer = torch.optim.SGD([u], lr=1e-3, momentum=0.9, weight_decay=1e-6)\n",
    "        \n",
    "        diff = 10\n",
    "        j = 0\n",
    "        loss_vals = [np.inf]\n",
    "        \n",
    "        while j < max_iters and diff > eps:\n",
    "            optimizer.zero_grad()\n",
    "            cov_out = get_cov_output_projected(u,cov_H,W)\n",
    "            loss = get_loss_func(cov_out)\n",
    "            loss.backward()\n",
    "            optimizer.step()\n",
    "            loss_vals.append(loss.detach().cpu().numpy().item())\n",
    "            diff = np.abs(loss_vals[-1] - loss_vals[-2])\n",
    "            if j % 500 == 0: print(\"j, loss, \", j, loss.detach().cpu().numpy().item(), diff)\n",
    "            j += 1\n",
    "        print(\"finished after {} iters\".format(j))\n",
    "        \n",
    "        # calculate new nullspace projection to neutralzie component u\n",
    "        \n",
    "        u_normed = u / torch.norm(u)\n",
    "        rowspace_projs.append((u_normed@u_normed.T).detach().cpu().numpy())\n",
    "        #P_nullspace = torch.from_numpy(get_projection_to_intersection_of_nullspaces(rowspace_projs,cov_H.shape[0]))\n",
    "        P_nullspace = torch.eye(H_proj.shape[1]).double() - u_normed@u_normed.T\n",
    "        \n",
    "        # calcualte explained variance\n",
    "        cov_out_total = get_cov_output_total(H,W)\n",
    "        total_var = get_loss_func(cov_out_total).detach().cpu().numpy().item()\n",
    "        cov_out_projected = get_cov_output_projected(u,cov_H,W)\n",
    "        total_var_projected = remaining_var - get_loss_func(cov_out_projected).detach().cpu().numpy().item()\n",
    "        explained_var = total_var_projected / total_var\n",
    "        \n",
    "        remaining_var = remaining_var - total_var_projected\n",
    "        \n",
    "        u = u / u.norm()\n",
    "        results.append({\"vec\": u.squeeze().detach().cpu().numpy(), \"projected_var\": total_var_projected,\n",
    "                       \"total_var\": total_var, \"explained_var\": total_var_projected*100/total_var,\n",
    "                       \"cov_out\":cov_out_projected})\n",
    "    \n",
    "    return results\n",
    "        "
   ]
  },
  {
   "cell_type": "code",
   "execution_count": 16,
   "metadata": {
    "scrolled": true
   },
   "outputs": [
    {
     "name": "stdout",
     "output_type": "stream",
     "text": [
      "-----------------------------\n",
      "j, loss,  0 169.72049041549053 inf\n",
      "j, loss,  500 122.4781739255136 0.00030679740329730976\n",
      "j, loss,  1000 122.4527948697771 1.2034733032351141e-06\n",
      "finished after 1463 iters\n",
      "-----------------------------\n",
      "j, loss,  0 122.2090252620225 inf\n",
      "j, loss,  500 87.62471807844426 0.014922887538062923\n",
      "j, loss,  1000 83.655355513856 0.0019122194108689428\n",
      "j, loss,  1500 83.35161982039182 9.701867539035902e-05\n",
      "j, loss,  2000 83.33607410721639 5.138820782235598e-06\n",
      "j, loss,  2500 83.33524421391994 2.775559835299646e-07\n",
      "j, loss,  3000 83.33519931961496 1.5047419310576515e-08\n",
      "finished after 3072 iters\n",
      "-----------------------------\n",
      "j, loss,  0 82.82680324944411 inf\n",
      "j, loss,  500 50.80210464974475 0.0008623053431833227\n",
      "j, loss,  1000 50.673884473453874 5.7577423554278084e-05\n",
      "j, loss,  1500 50.66024188371466 1.0917070099480952e-05\n",
      "j, loss,  2000 50.65747284247999 2.324078295146137e-06\n",
      "j, loss,  2500 50.65688128175265 4.975463525624946e-07\n",
      "j, loss,  3000 50.65675463197924 1.0651766046976263e-07\n",
      "j, loss,  3500 50.6567275191626 2.280174271618307e-08\n",
      "finished after 3769 iters\n",
      "-----------------------------\n",
      "j, loss,  0 53.661115345769176 inf\n",
      "j, loss,  500 21.86729603839409 0.0003168065615888338\n",
      "j, loss,  1000 21.83048381591583 4.731227097209967e-06\n",
      "j, loss,  1500 21.829931740017667 7.069987972840863e-08\n",
      "finished after 1734 iters\n",
      "-----------------------------\n",
      "j, loss,  0 22.963935588845835 inf\n",
      "j, loss,  500 0.004578420664147589 0.00014152956357290757\n",
      "finished after 815 iters\n"
     ]
    }
   ],
   "source": [
    "bca = BCA(H,W,n_components=5)"
   ]
  },
  {
   "cell_type": "code",
   "execution_count": 6,
   "metadata": {},
   "outputs": [],
   "source": [
    "#bca[0][\"vec\"].T@bca[3][\"vec\"]"
   ]
  },
  {
   "cell_type": "code",
   "execution_count": 17,
   "metadata": {},
   "outputs": [
    {
     "name": "stdout",
     "output_type": "stream",
     "text": [
      "0 1 7.627186184855361e-07\n",
      "0 2 -1.1890638141193177e-06\n",
      "0 3 -1.1041248385995628e-06\n",
      "0 4 1.7216343892179076e-08\n",
      "1 2 6.827629878830566e-07\n",
      "1 3 4.641096717356019e-07\n",
      "1 4 -6.809005553831682e-09\n",
      "2 3 5.547453474294417e-07\n",
      "2 4 -3.62159274097662e-09\n",
      "3 4 2.282270400444375e-08\n"
     ]
    }
   ],
   "source": [
    "vecs = np.array([x[\"vec\"] for x in bca])\n",
    "for i,v in enumerate(vecs):\n",
    "    for j, v2 in enumerate(vecs):\n",
    "        if j <= i: continue\n",
    "            \n",
    "        print(i,j, v@v2.T)"
   ]
  },
  {
   "cell_type": "code",
   "execution_count": 18,
   "metadata": {},
   "outputs": [
    {
     "name": "stdout",
     "output_type": "stream",
     "text": [
      "[28.415632737081403, 22.867610545707453, 19.103444285742405, 16.851800576081235, 12.761511669043047]\n",
      "99.99999981365555\n"
     ]
    }
   ],
   "source": [
    "\n",
    "#for i in range(len(bca)):\n",
    "    \n",
    "    #print(bca[i][\"explained_var\"])\n",
    "    \n",
    "cov_out_total = get_cov_output_total(H,W)\n",
    "total_var = get_loss_func(cov_out_total).detach().cpu().numpy().item()    \n",
    "vars = [x[\"explained_var\"] for x in bca]\n",
    "print(vars)\n",
    "print(sum(vars))"
   ]
  },
  {
   "cell_type": "code",
   "execution_count": 9,
   "metadata": {},
   "outputs": [
    {
     "data": {
      "text/plain": [
       "tensor([[ 1.1199e+01,  5.8626e+00,  5.9606e+00, -1.4767e+00, -3.9611e+00,\n",
       "          2.7268e+00, -1.6588e+00, -3.9901e-01, -2.7961e+00,  3.2513e+00,\n",
       "         -4.7000e+00, -3.8450e+00,  7.0242e-02,  2.3343e+00, -3.0070e-01,\n",
       "          4.6083e+00],\n",
       "        [ 5.8626e+00,  1.8849e+01,  6.1929e+00,  7.0691e-01,  3.3270e+00,\n",
       "         -6.9513e+00, -2.6983e+00, -9.7823e-01,  3.0550e+00, -3.6983e-01,\n",
       "         -8.7851e-01, -5.9634e-01, -2.4914e+00, -3.6286e+00, -6.8511e+00,\n",
       "          3.4699e+00],\n",
       "        [ 5.9606e+00,  6.1929e+00,  2.2912e+01,  1.8065e+00, -5.6866e+00,\n",
       "         -4.6718e+00, -4.5252e+00,  6.4546e-03,  4.1944e-01, -2.1189e+00,\n",
       "         -1.3973e+00, -3.3615e+00,  3.5891e+00, -7.3449e-01,  8.3607e+00,\n",
       "         -1.3285e+00],\n",
       "        [-1.4767e+00,  7.0691e-01,  1.8065e+00,  1.1346e+01,  5.2297e+00,\n",
       "         -1.0216e+00,  4.5425e-01,  2.6010e+00,  7.1736e+00, -4.6572e+00,\n",
       "          2.3475e+00,  4.8985e-01, -4.1403e+00,  4.2528e+00,  2.7935e+00,\n",
       "         -3.8552e+00],\n",
       "        [-3.9611e+00,  3.3270e+00, -5.6866e+00,  5.2297e+00,  1.6443e+01,\n",
       "          1.8590e+00,  2.0253e+00, -2.0334e+00,  1.5920e+00, -7.1256e+00,\n",
       "          2.0651e+00,  3.4639e+00, -7.0964e+00, -1.2580e+00, -4.8657e+00,\n",
       "          2.2224e+00],\n",
       "        [ 2.7268e+00, -6.9513e+00, -4.6718e+00, -1.0216e+00,  1.8590e+00,\n",
       "          1.0013e+01,  1.6499e-01,  1.9856e-02, -3.3033e+00,  2.4335e+00,\n",
       "         -3.8894e+00, -2.4150e+00, -4.3749e+00,  6.9933e+00, -7.2971e-01,\n",
       "          5.4895e+00],\n",
       "        [-1.6588e+00, -2.6983e+00, -4.5252e+00,  4.5425e-01,  2.0253e+00,\n",
       "          1.6499e-01,  1.3976e+01,  4.1032e-01, -7.1517e+00,  4.1902e+00,\n",
       "          3.4104e+00,  8.6776e+00,  3.4281e+00,  3.9861e-01,  9.9880e-01,\n",
       "         -6.8618e+00],\n",
       "        [-3.9901e-01, -9.7823e-01,  6.4546e-03,  2.6010e+00, -2.0334e+00,\n",
       "          1.9856e-02,  4.1032e-01,  9.9213e+00,  2.3057e+00,  2.6769e+00,\n",
       "         -3.7870e+00, -4.2418e+00,  1.3507e+00, -3.6025e-01,  4.0293e+00,\n",
       "          2.6349e+00],\n",
       "        [-2.7961e+00,  3.0550e+00,  4.1944e-01,  7.1736e+00,  1.5920e+00,\n",
       "         -3.3033e+00, -7.1517e+00,  2.3057e+00,  1.7004e+01, -1.7211e+00,\n",
       "          2.7905e+00, -6.0711e+00, -2.1912e+00,  5.2023e+00, -3.0791e+00,\n",
       "          2.2181e+00],\n",
       "        [ 3.2513e+00, -3.6983e-01, -2.1189e+00, -4.6572e+00, -7.1256e+00,\n",
       "          2.4335e+00,  4.1902e+00,  2.6769e+00, -1.7211e+00,  1.4795e+01,\n",
       "          2.9145e-01,  5.5422e-01, -3.0608e-01,  4.4660e-01, -3.9038e+00,\n",
       "          1.0907e+00],\n",
       "        [-4.7000e+00, -8.7851e-01, -1.3973e+00,  2.3475e+00,  2.0651e+00,\n",
       "         -3.8894e+00,  3.4104e+00, -3.7870e+00,  2.7905e+00,  2.9145e-01,\n",
       "          1.5100e+01,  5.4407e+00, -1.0989e+00, -6.5573e+00,  1.8819e+00,\n",
       "         -4.7657e+00],\n",
       "        [-3.8450e+00, -5.9634e-01, -3.3615e+00,  4.8985e-01,  3.4639e+00,\n",
       "         -2.4150e+00,  8.6776e+00, -4.2418e+00, -6.0711e+00,  5.5422e-01,\n",
       "          5.4407e+00,  2.0939e+01,  2.6002e+00, -7.9706e+00,  1.8119e+00,\n",
       "         -6.0028e+00],\n",
       "        [ 7.0242e-02, -2.4914e+00,  3.5891e+00, -4.1403e+00, -7.0964e+00,\n",
       "         -4.3749e+00,  3.4281e+00,  1.3507e+00, -2.1912e+00, -3.0608e-01,\n",
       "         -1.0989e+00,  2.6002e+00,  1.3737e+01, -3.6706e+00,  6.1805e+00,\n",
       "         -2.3036e+00],\n",
       "        [ 2.3343e+00, -3.6286e+00, -7.3449e-01,  4.2528e+00, -1.2580e+00,\n",
       "          6.9933e+00,  3.9861e-01, -3.6025e-01,  5.2023e+00,  4.4660e-01,\n",
       "         -6.5573e+00, -7.9706e+00, -3.6706e+00,  2.9070e+01, -3.1476e+00,\n",
       "          2.2722e+00],\n",
       "        [-3.0070e-01, -6.8511e+00,  8.3607e+00,  2.7935e+00, -4.8657e+00,\n",
       "         -7.2971e-01,  9.9880e-01,  4.0293e+00, -3.0791e+00, -3.9038e+00,\n",
       "          1.8819e+00,  1.8119e+00,  6.1805e+00, -3.1476e+00,  1.4744e+01,\n",
       "         -2.2230e+00],\n",
       "        [ 4.6083e+00,  3.4699e+00, -1.3285e+00, -3.8552e+00,  2.2224e+00,\n",
       "          5.4895e+00, -6.8618e+00,  2.6349e+00,  2.2181e+00,  1.0907e+00,\n",
       "         -4.7657e+00, -6.0028e+00, -2.3036e+00,  2.2722e+00, -2.2230e+00,\n",
       "          1.6065e+01]], grad_fn=<MmBackward>)"
      ]
     },
     "execution_count": 9,
     "metadata": {},
     "output_type": "execute_result"
    }
   ],
   "source": [
    "bca[-2][\"cov_out\"]"
   ]
  },
  {
   "cell_type": "code",
   "execution_count": 10,
   "metadata": {},
   "outputs": [
    {
     "data": {
      "text/plain": [
       "14.513608434725274"
      ]
     },
     "execution_count": 10,
     "metadata": {},
     "output_type": "execute_result"
    }
   ],
   "source": [
    "bca[1][\"explained_var\"]"
   ]
  },
  {
   "cell_type": "code",
   "execution_count": 11,
   "metadata": {},
   "outputs": [
    {
     "data": {
      "text/plain": [
       "3.199924110131036e-07"
      ]
     },
     "execution_count": 11,
     "metadata": {},
     "output_type": "execute_result"
    }
   ],
   "source": [
    "bca[0][\"vec\"].T@bca[2][\"vec\"]"
   ]
  },
  {
   "cell_type": "code",
   "execution_count": 12,
   "metadata": {},
   "outputs": [
    {
     "ename": "RuntimeError",
     "evalue": "size mismatch, m1: [1000000 x 32], m2: [2 x 2] at /pytorch/aten/src/TH/generic/THTensorMath.cpp:41",
     "output_type": "error",
     "traceback": [
      "\u001b[0;31m---------------------------------------------------------------------------\u001b[0m",
      "\u001b[0;31mRuntimeError\u001b[0m                              Traceback (most recent call last)",
      "\u001b[0;32m<ipython-input-12-824f8956ce8f>\u001b[0m in \u001b[0;36m<module>\u001b[0;34m\u001b[0m\n\u001b[1;32m      7\u001b[0m \u001b[0mP_u1\u001b[0m\u001b[0;34m=\u001b[0m \u001b[0mP_u1\u001b[0m\u001b[0;34m\u001b[0m\u001b[0;34m\u001b[0m\u001b[0m\n\u001b[1;32m      8\u001b[0m \u001b[0mP_u2\u001b[0m \u001b[0;34m=\u001b[0m \u001b[0mP_u2\u001b[0m\u001b[0;34m\u001b[0m\u001b[0;34m\u001b[0m\u001b[0m\n\u001b[0;32m----> 9\u001b[0;31m \u001b[0mH\u001b[0m\u001b[0;34m@\u001b[0m\u001b[0mP_u1\u001b[0m\u001b[0;34m@\u001b[0m\u001b[0mP_u2\u001b[0m\u001b[0;34m\u001b[0m\u001b[0;34m\u001b[0m\u001b[0m\n\u001b[0m",
      "\u001b[0;31mRuntimeError\u001b[0m: size mismatch, m1: [1000000 x 32], m2: [2 x 2] at /pytorch/aten/src/TH/generic/THTensorMath.cpp:41"
     ]
    }
   ],
   "source": [
    "H.shape\n",
    "u1, u2 = torch.randn(2,1), torch.randn(2,1)\n",
    "u1 = u1 / torch.norm(u1)\n",
    "u2 = u2 / torch.norm(u2)\n",
    "P_u1 = P_u1 = torch.eye(2) - u1@u1.T\n",
    "P_u2 = torch.eye(2) - u2@u2.T\n",
    "P_u1= P_u1\n",
    "P_u2 = P_u2\n",
    "H@P_u1@P_u2"
   ]
  },
  {
   "cell_type": "code",
   "execution_count": null,
   "metadata": {},
   "outputs": [],
   "source": [
    "P_u1 = torch.eye(2) - u1@u1.T\n",
    "P_u2"
   ]
  },
  {
   "cell_type": "code",
   "execution_count": null,
   "metadata": {},
   "outputs": [],
   "source": [
    "torch.allclose"
   ]
  },
  {
   "cell_type": "code",
   "execution_count": null,
   "metadata": {},
   "outputs": [],
   "source": []
  }
 ],
 "metadata": {
  "kernelspec": {
   "display_name": "Python 3",
   "language": "python",
   "name": "python3"
  },
  "language_info": {
   "codemirror_mode": {
    "name": "ipython",
    "version": 3
   },
   "file_extension": ".py",
   "mimetype": "text/x-python",
   "name": "python",
   "nbconvert_exporter": "python",
   "pygments_lexer": "ipython3",
   "version": "3.7.9"
  }
 },
 "nbformat": 4,
 "nbformat_minor": 4
}
