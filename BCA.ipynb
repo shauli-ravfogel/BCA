{
 "cells": [
  {
   "cell_type": "code",
   "execution_count": 62,
   "metadata": {},
   "outputs": [],
   "source": [
    "import torch\n",
    "import numpy as np\n",
    "from typing import List\n",
    "import scipy\n",
    "from scipy import linalg\n",
    "from sklearn.decomposition import PCA\n",
    "\n",
    "torch.set_default_tensor_type(torch.DoubleTensor)"
   ]
  },
  {
   "cell_type": "code",
   "execution_count": 13,
   "metadata": {},
   "outputs": [],
   "source": [
    "N = 1000000\n",
    "d = 32\n",
    "l = 5\n",
    "H = (torch.randn(N,d) + torch.rand(N,d)**2)\n",
    "\n",
    "H = H - torch.mean(H, dim = 0, keepdim = True)\n",
    "H = H\n",
    "W = torch.randn(d,l)\n",
    "cov_H = torch.tensor(np.cov(H.detach().cpu().numpy(), rowvar = False))\n"
   ]
  },
  {
   "cell_type": "code",
   "execution_count": 14,
   "metadata": {},
   "outputs": [],
   "source": [
    "# u = torch.nn.Parameter(u)\n",
    "# optimizer = torch.optim.SGD([u], lr=0.001, momentum=0.9, weight_decay=1e-4)"
   ]
  },
  {
   "cell_type": "code",
   "execution_count": 97,
   "metadata": {},
   "outputs": [],
   "source": [
    "def get_cov_output_projected(u, cov_H, W):\n",
    "    \n",
    "    u_normed = u / torch.norm(u)\n",
    "    P = torch.eye(cov_H.shape[0]) - (u_normed@u_normed.T)\n",
    "    #P = u_normed@u_normed.T\n",
    "    return W.T@P@cov_H@P@W\n",
    "\n",
    "def get_cov_output_total(H,W):\n",
    "    Y_hat = H@W \n",
    "    return torch.tensor(np.cov(Y_hat.detach().cpu().numpy(), rowvar = False))\n",
    "\n",
    "def get_loss_func(cov_output_projected):\n",
    "    \n",
    "    return torch.sum(torch.diag(cov_output_projected))\n",
    "\n",
    "def get_projection_to_intersection_of_nullspaces(rowspace_projection_matrices: List[np.ndarray], input_dim: int):\n",
    "    \"\"\"\n",
    "    Given a list of rowspace projection matrices P_R(w_1), ..., P_R(w_n),\n",
    "    this function calculates the projection to the intersection of all nullspasces of the matrices w_1, ..., w_n.\n",
    "    uses the intersection-projection formula of Ben-Israel 2013 http://benisrael.net/BEN-ISRAEL-NOV-30-13.pdf:\n",
    "    N(w1)∩ N(w2) ∩ ... ∩ N(wn) = N(P_R(w1) + P_R(w2) + ... + P_R(wn))\n",
    "    :param rowspace_projection_matrices: List[np.array], a list of rowspace projections\n",
    "    :param dim: input dim\n",
    "    \"\"\"\n",
    "\n",
    "    I = np.eye(input_dim)\n",
    "    Q = np.sum(rowspace_projection_matrices, axis = 0)\n",
    "    P = I - get_rowspace_projection(Q)\n",
    "\n",
    "    return P\n",
    "\n",
    "def get_rowspace_projection(W: np.ndarray) -> np.ndarray:\n",
    "    \"\"\"\n",
    "    :param W: the matrix over its nullspace to project\n",
    "    :return: the projection matrix over the rowspace\n",
    "    \"\"\"\n",
    "\n",
    "    if np.allclose(W, 0):\n",
    "        w_basis = np.zeros_like(W.T)\n",
    "    else:\n",
    "        w_basis = scipy.linalg.orth(W.T) # orthogonal basis\n",
    "\n",
    "    P_W = w_basis.dot(w_basis.T) # orthogonal projection on W's rowspace\n",
    "\n",
    "    return P_W\n",
    "\n",
    "def get_first_pca(H):\n",
    "    pca = PCA(n_components = 1)\n",
    "    pca.fit(H)\n",
    "    return torch.from_numpy(pca.components_.T)\n",
    "\n",
    "def BCA(H,W,n_components, eps = 1e-8, max_iters = 25000, init_pca = True):\n",
    "    \n",
    "    P_nullspace = torch.eye(H.shape[1])\n",
    "    results = []\n",
    "    cov_out_total = get_cov_output_total(H,W)\n",
    "    total_var_orig = get_loss_func(cov_out_total).detach().cpu().numpy().item()\n",
    "    remaining_var = total_var_orig\n",
    "    H_proj = H.clone()\n",
    "    rowspace_projs = []\n",
    "    \n",
    "    for i in range(n_components):\n",
    "        \n",
    "        H_proj = H_proj@P_nullspace # remove previous component \n",
    "        cov_H = torch.from_numpy(np.cov(H_proj.detach().cpu().numpy(), rowvar = False))\n",
    "        \n",
    "        if init_pca:\n",
    "            u = get_first_pca(H_proj.detach().cpu().numpy())\n",
    "        else:\n",
    "            u = torch.randn(H_proj.shape[1], 1)\n",
    "        u = torch.nn.Parameter(u)\n",
    "        optimizer = torch.optim.SGD([u], lr=1e-3, momentum=0.9, weight_decay=1e-10)\n",
    "        \n",
    "        diff = 10\n",
    "        j = 0\n",
    "        loss_vals = [np.inf]\n",
    "        \n",
    "        while j < max_iters and diff > eps:\n",
    "            optimizer.zero_grad()\n",
    "            cov_out = get_cov_output_projected(u,cov_H,W)\n",
    "            loss = get_loss_func(cov_out)\n",
    "            loss.backward()\n",
    "            optimizer.step()\n",
    "            loss_vals.append(loss.detach().cpu().numpy().item())\n",
    "            diff = np.abs(loss_vals[-1] - loss_vals[-2])\n",
    "            if j % 500 == 0: print(\"j, loss, \", j, loss.detach().cpu().numpy().item(), diff)\n",
    "            j += 1\n",
    "        print(\"finished after {} iters\".format(j))\n",
    "        \n",
    "        # calculate new nullspace projection to neutralzie component u\n",
    "        \n",
    "        u_normed = u / torch.norm(u)\n",
    "        rowspace_projs.append((u_normed@u_normed.T).detach().cpu().numpy())\n",
    "        #P_nullspace = torch.from_numpy(get_projection_to_intersection_of_nullspaces(rowspace_projs,cov_H.shape[0]))\n",
    "        P_nullspace = torch.eye(H_proj.shape[1]).double() - u_normed@u_normed.T\n",
    "        \n",
    "        # calcualte explained variance\n",
    "        cov_out_total = get_cov_output_total(H,W)\n",
    "        total_var = get_loss_func(cov_out_total).detach().cpu().numpy().item()\n",
    "        cov_out_projected = get_cov_output_projected(u,cov_H,W)\n",
    "        total_var_projected = remaining_var - get_loss_func(cov_out_projected).detach().cpu().numpy().item()\n",
    "        explained_var = total_var_projected / total_var\n",
    "        \n",
    "        remaining_var = remaining_var - total_var_projected\n",
    "        \n",
    "        #u = u / u.norm()\n",
    "        results.append({\"vec\": u.squeeze().detach().cpu().numpy(), \"projected_var\": total_var_projected,\n",
    "                       \"total_var\": total_var, \"explained_var\": total_var_projected*100/total_var,\n",
    "                       \"cov_out\":cov_out_projected})\n",
    "    \n",
    "    return results\n",
    "        "
   ]
  },
  {
   "cell_type": "code",
   "execution_count": 101,
   "metadata": {
    "scrolled": true
   },
   "outputs": [
    {
     "name": "stdout",
     "output_type": "stream",
     "text": [
      "j, loss,  0 169.22520978210827 inf\n",
      "finished after 297 iters\n",
      "j, loss,  0 120.34984077920129 inf\n",
      "j, loss,  500 83.33519684677654 4.09292510994419e-09\n",
      "finished after 537 iters\n",
      "j, loss,  0 82.32590894700616 inf\n",
      "j, loss,  500 50.65680543502892 2.142370014723838e-06\n",
      "finished after 811 iters\n",
      "j, loss,  0 48.93480232274766 inf\n",
      "finished after 257 iters\n",
      "j, loss,  0 21.740346904464143 inf\n",
      "finished after 187 iters\n",
      "j, loss,  0 7.609858549168947e-09 inf\n",
      "finished after 2 iters\n"
     ]
    }
   ],
   "source": [
    "bca = BCA(H,W,n_components=6, eps = 1e-9, init_pca = True)"
   ]
  },
  {
   "cell_type": "code",
   "execution_count": 102,
   "metadata": {},
   "outputs": [],
   "source": [
    "#bca[0][\"vec\"].T@bca[3][\"vec\"]"
   ]
  },
  {
   "cell_type": "code",
   "execution_count": 103,
   "metadata": {
    "scrolled": true
   },
   "outputs": [
    {
     "name": "stdout",
     "output_type": "stream",
     "text": [
      "0 1 -6.798173381561412e-06\n",
      "0 2 9.931919446204418e-06\n",
      "0 3 8.62089792696974e-06\n",
      "0 4 -1.228707438571952e-07\n",
      "0 5 1.0913743242468854e-08\n",
      "1 2 5.137323258463944e-06\n",
      "1 3 3.2546245907205673e-06\n",
      "1 4 -4.277656528994811e-08\n",
      "1 5 3.508004775554241e-09\n",
      "2 3 3.672781243579948e-06\n",
      "2 4 -2.4219421745907965e-08\n",
      "2 5 -1.012295913760397e-09\n",
      "3 4 1.2162730955722623e-07\n",
      "3 5 -6.004375330270761e-10\n",
      "4 5 3.909578286109827e-10\n"
     ]
    }
   ],
   "source": [
    "vecs = np.array([x[\"vec\"] for x in bca])\n",
    "for i,v in enumerate(vecs):\n",
    "    for j, v2 in enumerate(vecs):\n",
    "        if j <= i: continue\n",
    "            \n",
    "        print(i,j, v@v2.T)"
   ]
  },
  {
   "cell_type": "code",
   "execution_count": 104,
   "metadata": {},
   "outputs": [
    {
     "name": "stdout",
     "output_type": "stream",
     "text": [
      "[28.415633282144302, 22.86761097608209, 19.10344517169494, 16.851799391595954, 12.761511173989295, 4.479159908069864e-11]\n",
      "99.99999999555136\n"
     ]
    }
   ],
   "source": [
    "\n",
    "#for i in range(len(bca)):\n",
    "    \n",
    "    #print(bca[i][\"explained_var\"])\n",
    "    \n",
    "cov_out_total = get_cov_output_total(H,W)\n",
    "total_var = get_loss_func(cov_out_total).detach().cpu().numpy().item()    \n",
    "vars = [x[\"explained_var\"] for x in bca]\n",
    "print(vars)\n",
    "print(sum(vars))"
   ]
  },
  {
   "cell_type": "code",
   "execution_count": 105,
   "metadata": {},
   "outputs": [
    {
     "data": {
      "text/plain": [
       "array([ 0.3132065 ,  0.14544315, -0.21388022, -0.07112003,  0.06993842,\n",
       "        0.15482405,  0.24399994, -0.01227424,  0.00129624,  0.29998847,\n",
       "       -0.03600201,  0.12333816,  0.05075786, -0.05182187,  0.12774499,\n",
       "        0.20868128,  0.22070852,  0.30649608, -0.0399898 , -0.07595784,\n",
       "       -0.22371177,  0.07208546,  0.01059946,  0.24092727,  0.19335357,\n",
       "       -0.02625039,  0.0787781 ,  0.22569228,  0.25061547,  0.37341051,\n",
       "        0.08615498, -0.03819199])"
      ]
     },
     "execution_count": 105,
     "metadata": {},
     "output_type": "execute_result"
    }
   ],
   "source": [
    "bca[-1][\"vec\"]"
   ]
  },
  {
   "cell_type": "code",
   "execution_count": 106,
   "metadata": {},
   "outputs": [
    {
     "data": {
      "text/plain": [
       "16.851799391595954"
      ]
     },
     "execution_count": 106,
     "metadata": {},
     "output_type": "execute_result"
    }
   ],
   "source": [
    "bca[-3][\"explained_var\"]"
   ]
  },
  {
   "cell_type": "code",
   "execution_count": 107,
   "metadata": {},
   "outputs": [
    {
     "data": {
      "text/plain": [
       "9.931919446204418e-06"
      ]
     },
     "execution_count": 107,
     "metadata": {},
     "output_type": "execute_result"
    }
   ],
   "source": [
    "bca[0][\"vec\"].T@bca[2][\"vec\"]"
   ]
  }
 ],
 "metadata": {
  "kernelspec": {
   "display_name": "Python 3",
   "language": "python",
   "name": "python3"
  },
  "language_info": {
   "codemirror_mode": {
    "name": "ipython",
    "version": 3
   },
   "file_extension": ".py",
   "mimetype": "text/x-python",
   "name": "python",
   "nbconvert_exporter": "python",
   "pygments_lexer": "ipython3",
   "version": "3.7.9"
  }
 },
 "nbformat": 4,
 "nbformat_minor": 4
}
